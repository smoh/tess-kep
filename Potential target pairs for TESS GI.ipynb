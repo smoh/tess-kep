{
 "cells": [
  {
   "cell_type": "code",
   "execution_count": 1,
   "metadata": {
    "collapsed": true
   },
   "outputs": [],
   "source": [
    "%matplotlib inline\n",
    "import matplotlib.pyplot as plt\n",
    "import pandas as pd\n",
    "import numpy as np\n",
    "import palettable\n",
    "\n",
    "from astropy.table import Table\n",
    "import astropy.units as u\n",
    "import astropy.coordinates as coords\n",
    "\n",
    "import neighbors"
   ]
  },
  {
   "cell_type": "code",
   "execution_count": 3,
   "metadata": {
    "collapsed": false,
    "scrolled": true
   },
   "outputs": [
    {
     "name": "stdout",
     "output_type": "stream",
     "text": [
      "\u001b[1m\u001b[36mExampleAllocationRequest-Astrophysics\u001b[m\u001b[m\r\n",
      "ExampleAllocationRequest-Astrophysics.zip\r\n",
      "MAST_TIC_Proxima_Cen.csv\r\n",
      "core-science-targets-v2.csv\r\n",
      "oh17star_MAST_Crossmatch_CTL.csv\r\n",
      "omega_cen_target_table.csv\r\n",
      "star_groupsize2_radec.csv\r\n",
      "star_groupsize2_radec.csv-tvguide.csv\r\n"
     ]
    }
   ],
   "source": [
    "!ls ../data/tess-gi/"
   ]
  },
  {
   "cell_type": "markdown",
   "metadata": {},
   "source": [
    "# Cross-match with TESS CTL\n",
    "\n",
    "Using mast portal; for all stars; radius=3 arcsec"
   ]
  },
  {
   "cell_type": "code",
   "execution_count": 4,
   "metadata": {
    "collapsed": false
   },
   "outputs": [
    {
     "name": "stdout",
     "output_type": "stream",
     "text": [
      "8929\n",
      "row_id, tgas_source_id, name, ra, dec, parallax, distance, G, J, rave_obs_id, rv, erv, group_id, group_size, MatchID, MatchRA, MatchDEC, pmRA, pmDEC, Tmag, objType, typeSrc, dstArcSec, version, HIP, TYC, UCAC, TWOMASS, SDSS, ALLWISE, GAIA, APASS, KIC, POSflag, e_pmRA, e_pmDEC, PMflag, plx, e_plx, PARflag, gallong, gallat, eclong, eclat, Bmag, e_Bmag, Vmag, e_Vmag, umag, e_umag, gmag, e_gmag, rmag, e_rmag, imag, e_imag, zmag, e_zmag, Jmag, e_Jmag, Hmag, e_Hmag, Kmag, e_Kmag, TWOMflag, prox, w1mag, e_w1mag, w2mag, e_w2mag, w3mag, e_w3mag, w4mag, e_w4mag, GAIAmag, e_GAIAmag, e_Tmag, TESSflag, SPFlag, Teff, e_Teff, logg, e_logg, MH, e_MH, rad, e_rad, mass, e_mass, rho, e_rho, lumclass, lum, e_lum, d, e_d, ebv, e_ebv, numcont, contratio, disposition, duplicate_i, priority, subPriority\n"
     ]
    }
   ],
   "source": [
    "candi = pd.read_csv(\"files/oh17star_MAST_Crossmatch_CTL.csv\", comment='#')\n",
    "print(len(candi))\n",
    "print(', '.join(candi.columns))"
   ]
  },
  {
   "cell_type": "markdown",
   "metadata": {},
   "source": [
    "Check duplicate rows with `row_id` (which is unique in the matching catalog)"
   ]
  },
  {
   "cell_type": "code",
   "execution_count": 5,
   "metadata": {
    "collapsed": false
   },
   "outputs": [
    {
     "data": {
      "text/html": [
       "<div>\n",
       "<style>\n",
       "    .dataframe thead tr:only-child th {\n",
       "        text-align: right;\n",
       "    }\n",
       "\n",
       "    .dataframe thead th {\n",
       "        text-align: left;\n",
       "    }\n",
       "\n",
       "    .dataframe tbody tr th {\n",
       "        vertical-align: top;\n",
       "    }\n",
       "</style>\n",
       "<table border=\"1\" class=\"dataframe\">\n",
       "  <thead>\n",
       "    <tr style=\"text-align: right;\">\n",
       "      <th></th>\n",
       "      <th>row_id</th>\n",
       "      <th>name</th>\n",
       "      <th>MatchID</th>\n",
       "      <th>HIP</th>\n",
       "      <th>TYC</th>\n",
       "    </tr>\n",
       "  </thead>\n",
       "  <tbody>\n",
       "    <tr>\n",
       "      <th>8739</th>\n",
       "      <td>378</td>\n",
       "      <td>HIP 80290</td>\n",
       "      <td>392178089</td>\n",
       "      <td>80290</td>\n",
       "      <td>6802-01266-1</td>\n",
       "    </tr>\n",
       "    <tr>\n",
       "      <th>5192</th>\n",
       "      <td>378</td>\n",
       "      <td>HIP 80290</td>\n",
       "      <td>392178090</td>\n",
       "      <td>0</td>\n",
       "      <td>NaN</td>\n",
       "    </tr>\n",
       "    <tr>\n",
       "      <th>8786</th>\n",
       "      <td>861</td>\n",
       "      <td>TYC 1483-569-2</td>\n",
       "      <td>347436570</td>\n",
       "      <td>0</td>\n",
       "      <td>1483-00569-1</td>\n",
       "    </tr>\n",
       "    <tr>\n",
       "      <th>6407</th>\n",
       "      <td>861</td>\n",
       "      <td>TYC 1483-569-2</td>\n",
       "      <td>347436569</td>\n",
       "      <td>0</td>\n",
       "      <td>1483-00569-2</td>\n",
       "    </tr>\n",
       "    <tr>\n",
       "      <th>738</th>\n",
       "      <td>1327</td>\n",
       "      <td>HIP 59781</td>\n",
       "      <td>383337212</td>\n",
       "      <td>0</td>\n",
       "      <td>NaN</td>\n",
       "    </tr>\n",
       "    <tr>\n",
       "      <th>8620</th>\n",
       "      <td>1327</td>\n",
       "      <td>HIP 59781</td>\n",
       "      <td>383337214</td>\n",
       "      <td>59781</td>\n",
       "      <td>8978-05406-1</td>\n",
       "    </tr>\n",
       "    <tr>\n",
       "      <th>3620</th>\n",
       "      <td>2957</td>\n",
       "      <td>TYC 4065-1109-1</td>\n",
       "      <td>84894226</td>\n",
       "      <td>0</td>\n",
       "      <td>NaN</td>\n",
       "    </tr>\n",
       "    <tr>\n",
       "      <th>8282</th>\n",
       "      <td>2957</td>\n",
       "      <td>TYC 4065-1109-1</td>\n",
       "      <td>84894224</td>\n",
       "      <td>0</td>\n",
       "      <td>4065-01109-1</td>\n",
       "    </tr>\n",
       "    <tr>\n",
       "      <th>7755</th>\n",
       "      <td>2958</td>\n",
       "      <td>TYC 4065-1109-2</td>\n",
       "      <td>84894224</td>\n",
       "      <td>0</td>\n",
       "      <td>4065-01109-1</td>\n",
       "    </tr>\n",
       "    <tr>\n",
       "      <th>2402</th>\n",
       "      <td>2958</td>\n",
       "      <td>TYC 4065-1109-2</td>\n",
       "      <td>84894222</td>\n",
       "      <td>0</td>\n",
       "      <td>4065-01109-2</td>\n",
       "    </tr>\n",
       "    <tr>\n",
       "      <th>8912</th>\n",
       "      <td>2958</td>\n",
       "      <td>TYC 4065-1109-2</td>\n",
       "      <td>84894226</td>\n",
       "      <td>0</td>\n",
       "      <td>NaN</td>\n",
       "    </tr>\n",
       "    <tr>\n",
       "      <th>1261</th>\n",
       "      <td>3502</td>\n",
       "      <td>TYC 8235-913-1</td>\n",
       "      <td>72178248</td>\n",
       "      <td>0</td>\n",
       "      <td>NaN</td>\n",
       "    </tr>\n",
       "    <tr>\n",
       "      <th>8811</th>\n",
       "      <td>3502</td>\n",
       "      <td>TYC 8235-913-1</td>\n",
       "      <td>72178247</td>\n",
       "      <td>0</td>\n",
       "      <td>8235-00913-1</td>\n",
       "    </tr>\n",
       "    <tr>\n",
       "      <th>5432</th>\n",
       "      <td>8171</td>\n",
       "      <td>TYC 240-635-1</td>\n",
       "      <td>262713697</td>\n",
       "      <td>0</td>\n",
       "      <td>0240-00635-1</td>\n",
       "    </tr>\n",
       "    <tr>\n",
       "      <th>8898</th>\n",
       "      <td>8171</td>\n",
       "      <td>TYC 240-635-1</td>\n",
       "      <td>262713698</td>\n",
       "      <td>0</td>\n",
       "      <td>0240-00635-2</td>\n",
       "    </tr>\n",
       "    <tr>\n",
       "      <th>1750</th>\n",
       "      <td>9510</td>\n",
       "      <td>TYC 5317-524-2</td>\n",
       "      <td>117650306</td>\n",
       "      <td>0</td>\n",
       "      <td>5317-00524-2</td>\n",
       "    </tr>\n",
       "    <tr>\n",
       "      <th>8882</th>\n",
       "      <td>9510</td>\n",
       "      <td>TYC 5317-524-2</td>\n",
       "      <td>117650309</td>\n",
       "      <td>0</td>\n",
       "      <td>5317-00524-1</td>\n",
       "    </tr>\n",
       "  </tbody>\n",
       "</table>\n",
       "</div>"
      ],
      "text/plain": [
       "      row_id             name    MatchID    HIP           TYC\n",
       "8739     378        HIP 80290  392178089  80290  6802-01266-1\n",
       "5192     378        HIP 80290  392178090      0           NaN\n",
       "8786     861   TYC 1483-569-2  347436570      0  1483-00569-1\n",
       "6407     861   TYC 1483-569-2  347436569      0  1483-00569-2\n",
       "738     1327        HIP 59781  383337212      0           NaN\n",
       "8620    1327        HIP 59781  383337214  59781  8978-05406-1\n",
       "3620    2957  TYC 4065-1109-1   84894226      0           NaN\n",
       "8282    2957  TYC 4065-1109-1   84894224      0  4065-01109-1\n",
       "7755    2958  TYC 4065-1109-2   84894224      0  4065-01109-1\n",
       "2402    2958  TYC 4065-1109-2   84894222      0  4065-01109-2\n",
       "8912    2958  TYC 4065-1109-2   84894226      0           NaN\n",
       "1261    3502   TYC 8235-913-1   72178248      0           NaN\n",
       "8811    3502   TYC 8235-913-1   72178247      0  8235-00913-1\n",
       "5432    8171    TYC 240-635-1  262713697      0  0240-00635-1\n",
       "8898    8171    TYC 240-635-1  262713698      0  0240-00635-2\n",
       "1750    9510   TYC 5317-524-2  117650306      0  5317-00524-2\n",
       "8882    9510   TYC 5317-524-2  117650309      0  5317-00524-1"
      ]
     },
     "execution_count": 5,
     "metadata": {},
     "output_type": "execute_result"
    }
   ],
   "source": [
    "candi.loc[candi.row_id.duplicated(keep=False)]\\\n",
    "    .sort_values('row_id')[['row_id','name','MatchID','HIP','TYC']]"
   ]
  },
  {
   "cell_type": "markdown",
   "metadata": {},
   "source": [
    "Let's not deal with duplicates. Remove them, and focus on pairs only."
   ]
  },
  {
   "cell_type": "code",
   "execution_count": 30,
   "metadata": {
    "collapsed": true
   },
   "outputs": [],
   "source": [
    "candi = candi.loc[~candi.row_id.duplicated(keep=False)]\n",
    "\n",
    "candi2 = candi.loc[candi.group_size==2]"
   ]
  },
  {
   "cell_type": "markdown",
   "metadata": {},
   "source": [
    "Check how many pairs have both stars matched:"
   ]
  },
  {
   "cell_type": "code",
   "execution_count": 44,
   "metadata": {
    "collapsed": false
   },
   "outputs": [
    {
     "data": {
      "text/plain": [
       "2    3137\n",
       "1     835\n",
       "Name: group_id, dtype: int64"
      ]
     },
     "execution_count": 44,
     "metadata": {},
     "output_type": "execute_result"
    }
   ],
   "source": [
    "candi2.group_id.value_counts().value_counts()"
   ]
  },
  {
   "cell_type": "markdown",
   "metadata": {},
   "source": [
    "Check how many pairs with both stars matched have RAVE RVs for both stars:"
   ]
  },
  {
   "cell_type": "code",
   "execution_count": 53,
   "metadata": {
    "collapsed": false
   },
   "outputs": [],
   "source": [
    "pairdf = pd.DataFrame(candi2.group_id.value_counts(),)"
   ]
  },
  {
   "cell_type": "code",
   "execution_count": 74,
   "metadata": {
    "collapsed": false
   },
   "outputs": [],
   "source": [
    "rows = []\n",
    "for g in pairdf.index:\n",
    "    if (candi2.group_id==g).sum() == 2:\n",
    "        rows.append(candi2.loc[candi2.group_id==g, ['row_id', 'rv', 'erv']].values.ravel()[None,:])\n",
    "    else:\n",
    "        rows.append([np.nan]*6)"
   ]
  },
  {
   "cell_type": "code",
   "execution_count": 75,
   "metadata": {
    "collapsed": false
   },
   "outputs": [],
   "source": [
    "rows = np.vstack(rows)"
   ]
  },
  {
   "cell_type": "code",
   "execution_count": 91,
   "metadata": {
    "collapsed": false
   },
   "outputs": [],
   "source": [
    "drv = rows[:,1]-rows[:,4]\n",
    "edrv = np.hypot(rows[:,2], rows[:,5])"
   ]
  },
  {
   "cell_type": "code",
   "execution_count": 99,
   "metadata": {
    "collapsed": false
   },
   "outputs": [
    {
     "name": "stdout",
     "output_type": "stream",
     "text": [
      "N pairs with RVs =  170 / 3972\n"
     ]
    }
   ],
   "source": [
    "print(\"N pairs with RVs = \", (~np.isnan(drv)).sum(), \"/\", drv.size)"
   ]
  },
  {
   "cell_type": "code",
   "execution_count": 107,
   "metadata": {
    "collapsed": false
   },
   "outputs": [
    {
     "data": {
      "text/plain": [
       "<matplotlib.text.Text at 0x1205d8898>"
      ]
     },
     "execution_count": 107,
     "metadata": {},
     "output_type": "execute_result"
    },
    {
     "data": {
      "image/png": "[encoded data removed]",
      "text/plain": [
       "<matplotlib.figure.Figure at 0x11f39a5f8>"
      ]
     },
     "metadata": {},
     "output_type": "display_data"
    }
   ],
   "source": [
    "fig, ax = plt.subplots(1, 2, figsize=(10,4))\n",
    "ax[0].hist(drv[~np.isnan(drv)], np.linspace(-50,50,51))\n",
    "ax[0].set_xlabel('$\\Delta v_r$ [km/s]')\n",
    "ax[1].hist(drv[~np.isnan(drv)]/edrv[~np.isnan(drv)], np.linspace(-30,30,50));\n",
    "ax[1].set_xlabel('$\\Delta v_r / \\sqrt{\\sigma_1^2 + \\sigma_2^2}$')"
   ]
  },
  {
   "cell_type": "markdown",
   "metadata": {},
   "source": [
    "But then this is probably irrelevant for cycle 1.."
   ]
  },
  {
   "cell_type": "markdown",
   "metadata": {},
   "source": [
    "# Cycle 1 Observability with tvguide\n",
    "\n",
    "\n",
    "```sh\n",
    "$tvguide-csv star_groupsize2_radec.csv\n",
    "```"
   ]
  },
  {
   "cell_type": "code",
   "execution_count": 108,
   "metadata": {
    "collapsed": false
   },
   "outputs": [
    {
     "name": "stdout",
     "output_type": "stream",
     "text": [
      "ra,dec\r\n",
      "22.484376,-48.351785\r\n",
      "85.085926,37.745584\r\n"
     ]
    }
   ],
   "source": [
    "!head -n 3 ../data/tess-gi/star_groupsize2_radec.csv"
   ]
  },
  {
   "cell_type": "code",
   "execution_count": 109,
   "metadata": {
    "collapsed": false
   },
   "outputs": [
    {
     "name": "stdout",
     "output_type": "stream",
     "text": [
      "       nan,        nan, 0, 0\r\n",
      "22.4843760000, -48.3517850000, 0, 2\r\n",
      "85.0859260000, 37.7455840000, 0, 0\r\n"
     ]
    }
   ],
   "source": [
    "!head -n 3 ../data/tess-gi/star_groupsize2_radec.csv-tvguide.csv"
   ]
  },
  {
   "cell_type": "code",
   "execution_count": 183,
   "metadata": {
    "collapsed": false
   },
   "outputs": [
    {
     "name": "stdout",
     "output_type": "stream",
     "text": [
      "    8473 ../data/tess-gi/star_groupsize2_radec.csv\r\n",
      "    8473 ../data/tess-gi/star_groupsize2_radec.csv-tvguide.csv\r\n",
      "   16946 total\r\n"
     ]
    }
   ],
   "source": [
    "!wc -l ../data/tess-gi/star_groupsize2_radec*"
   ]
  },
  {
   "cell_type": "code",
   "execution_count": 6,
   "metadata": {
    "collapsed": true
   },
   "outputs": [],
   "source": [
    "star, pair, group = neighbors.data.load_oh17()"
   ]
  },
  {
   "cell_type": "code",
   "execution_count": 7,
   "metadata": {
    "collapsed": true
   },
   "outputs": [],
   "source": [
    "tv = pd.read_csv(\"files/star_groupsize2_radec.csv-tvguide.csv\",header=None,\n",
    "                 names=['ra','dec','minsec','maxsec'], skiprows=1)\n",
    "\n",
    "star2 = star.loc[star.group_size==2].copy()\n",
    "canditv = pd.merge(star2, tv[['minsec','maxsec']], left_index=True, right_index=True)"
   ]
  },
  {
   "cell_type": "code",
   "execution_count": 8,
   "metadata": {
    "collapsed": false
   },
   "outputs": [
    {
     "data": {
      "text/plain": [
       "0     6330\n",
       "2      228\n",
       "1       82\n",
       "12      78\n",
       "6       25\n",
       "4       23\n",
       "11      14\n",
       "10       9\n",
       "8        8\n",
       "5        4\n",
       "7        3\n",
       "3        3\n",
       "Name: minsec, dtype: int64"
      ]
     },
     "execution_count": 8,
     "metadata": {},
     "output_type": "execute_result"
    }
   ],
   "source": [
    "canditv.minsec.value_counts()"
   ]
  },
  {
   "cell_type": "code",
   "execution_count": 9,
   "metadata": {
    "collapsed": false
   },
   "outputs": [
    {
     "data": {
      "text/plain": [
       "0     3439\n",
       "2     1856\n",
       "1     1044\n",
       "3      242\n",
       "13      78\n",
       "4       59\n",
       "12      17\n",
       "5       15\n",
       "7       13\n",
       "6       12\n",
       "10      11\n",
       "8        9\n",
       "11       6\n",
       "9        6\n",
       "Name: maxsec, dtype: int64"
      ]
     },
     "execution_count": 9,
     "metadata": {},
     "output_type": "execute_result"
    }
   ],
   "source": [
    "canditv.maxsec.value_counts()"
   ]
  },
  {
   "cell_type": "markdown",
   "metadata": {},
   "source": [
    "Check\n",
    "- maxsec > 0\n",
    "- both has RAVE RV"
   ]
  },
  {
   "cell_type": "code",
   "execution_count": 10,
   "metadata": {
    "collapsed": false
   },
   "outputs": [
    {
     "data": {
      "text/plain": [
       "1    303\n",
       "2     35\n",
       "Name: group_id, dtype: int64"
      ]
     },
     "execution_count": 10,
     "metadata": {},
     "output_type": "execute_result"
    }
   ],
   "source": [
    "canditv.loc[(canditv['maxsec']>0) & (~canditv['rv'].isnull())]\\\n",
    "      .group_id.value_counts().value_counts()"
   ]
  },
  {
   "cell_type": "code",
   "execution_count": 11,
   "metadata": {
    "collapsed": false
   },
   "outputs": [
    {
     "name": "stdout",
     "output_type": "stream",
     "text": [
      "number of pairs both observable and has RV =  35\n"
     ]
    }
   ],
   "source": [
    "print(\"number of pairs both observable and has RV = \",\n",
    "      canditv.loc[(canditv['maxsec']>0) & (~canditv['rv'].isnull())]\\\n",
    "      .group_id.value_counts().value_counts()[2])"
   ]
  },
  {
   "cell_type": "code",
   "execution_count": 12,
   "metadata": {
    "collapsed": false
   },
   "outputs": [],
   "source": [
    "pairdf = pd.DataFrame(canditv.loc[(canditv['maxsec']>0) & (~canditv['rv'].isnull())].group_id.value_counts())\n",
    "pairdf = pairdf.loc[pairdf.group_id==2]"
   ]
  },
  {
   "cell_type": "code",
   "execution_count": 13,
   "metadata": {
    "collapsed": false
   },
   "outputs": [],
   "source": [
    "rows = []\n",
    "for g in pairdf.index:\n",
    "    if (star2.group_id==g).sum() == 2:\n",
    "        rows.append(star2.loc[star2.group_id==g, ['row_id', 'rv', 'erv']].values.ravel()[None,:])\n",
    "    else:\n",
    "        rows.append([np.nan]*7)\n",
    "rows = np.vstack(rows)"
   ]
  },
  {
   "cell_type": "code",
   "execution_count": 14,
   "metadata": {
    "collapsed": true
   },
   "outputs": [],
   "source": [
    "drv = rows[:,1]-rows[:,4]\n",
    "edrv = np.hypot(rows[:,2], rows[:,5])"
   ]
  },
  {
   "cell_type": "code",
   "execution_count": 15,
   "metadata": {
    "collapsed": false
   },
   "outputs": [
    {
     "data": {
      "text/plain": [
       "<matplotlib.text.Text at 0x110c06518>"
      ]
     },
     "execution_count": 15,
     "metadata": {},
     "output_type": "execute_result"
    },
    {
     "data": {
      "image/png": "[encoded data removed]",
      "text/plain": [
       "<matplotlib.figure.Figure at 0x1110a9048>"
      ]
     },
     "metadata": {},
     "output_type": "display_data"
    }
   ],
   "source": [
    "fig, ax = plt.subplots(1, 2, figsize=(10,4))\n",
    "ax[0].hist(drv[~np.isnan(drv)], np.linspace(-50,50,51))\n",
    "ax[0].set_xlabel('$\\Delta v_r$ [km/s]')\n",
    "ax[1].hist(drv[~np.isnan(drv)]/edrv[~np.isnan(drv)], np.linspace(-30,30,50));\n",
    "ax[1].set_xlabel('$\\Delta v_r / \\sqrt{\\sigma_1^2 + \\sigma_2^2}$')"
   ]
  },
  {
   "cell_type": "code",
   "execution_count": 227,
   "metadata": {
    "collapsed": false
   },
   "outputs": [
    {
     "data": {
      "text/plain": [
       "<matplotlib.lines.Line2D at 0x122e0a5f8>"
      ]
     },
     "execution_count": 227,
     "metadata": {},
     "output_type": "execute_result"
    },
    {
     "data": {
      "image/png": "[encoded data removed]",
      "text/plain": [
       "<matplotlib.figure.Figure at 0x122d1f278>"
      ]
     },
     "metadata": {},
     "output_type": "display_data"
    }
   ],
   "source": [
    "plt.scatter(drv[~np.isnan(drv)], drv[~np.isnan(drv)]/edrv[~np.isnan(drv)])\n",
    "plt.xlim(-50,50)\n",
    "plt.axhline(0,lw=1)\n",
    "plt.axvline(0,lw=1)"
   ]
  },
  {
   "cell_type": "code",
   "execution_count": 16,
   "metadata": {
    "collapsed": false
   },
   "outputs": [],
   "source": [
    "pairdf['star1'] = rows[:,0]\n",
    "pairdf['star2'] = rows[:,3]\n",
    "pairdf['abs_drv'] = np.fabs(drv)\n",
    "pairdf['abs_drv_edrv'] = np.fabs(drv/edrv)"
   ]
  },
  {
   "cell_type": "code",
   "execution_count": 17,
   "metadata": {
    "collapsed": true
   },
   "outputs": [],
   "source": [
    "pairdf['separation'] = [pair.separation[pair.group_id == g].values[0] for g in pairdf.index]\n",
    "pairdf['angsep'] = [pair.angsep[pair.group_id == g].values[0] for g in pairdf.index]"
   ]
  },
  {
   "cell_type": "code",
   "execution_count": 18,
   "metadata": {
    "collapsed": false
   },
   "outputs": [
    {
     "data": {
      "text/html": [
       "<div>\n",
       "<style>\n",
       "    .dataframe thead tr:only-child th {\n",
       "        text-align: right;\n",
       "    }\n",
       "\n",
       "    .dataframe thead th {\n",
       "        text-align: left;\n",
       "    }\n",
       "\n",
       "    .dataframe tbody tr th {\n",
       "        vertical-align: top;\n",
       "    }\n",
       "</style>\n",
       "<table border=\"1\" class=\"dataframe\">\n",
       "  <thead>\n",
       "    <tr style=\"text-align: right;\">\n",
       "      <th></th>\n",
       "      <th>group_id</th>\n",
       "      <th>star1</th>\n",
       "      <th>star2</th>\n",
       "      <th>abs_drv</th>\n",
       "      <th>abs_drv_edrv</th>\n",
       "      <th>separation</th>\n",
       "      <th>angsep</th>\n",
       "    </tr>\n",
       "  </thead>\n",
       "  <tbody>\n",
       "    <tr>\n",
       "      <th>1817</th>\n",
       "      <td>2</td>\n",
       "      <td>2784.0</td>\n",
       "      <td>2785.0</td>\n",
       "      <td>0.04</td>\n",
       "      <td>0.010363</td>\n",
       "      <td>3.473</td>\n",
       "      <td>0.666</td>\n",
       "    </tr>\n",
       "    <tr>\n",
       "      <th>813</th>\n",
       "      <td>2</td>\n",
       "      <td>784.0</td>\n",
       "      <td>785.0</td>\n",
       "      <td>0.03</td>\n",
       "      <td>0.015643</td>\n",
       "      <td>1.371</td>\n",
       "      <td>0.482</td>\n",
       "    </tr>\n",
       "    <tr>\n",
       "      <th>3862</th>\n",
       "      <td>2</td>\n",
       "      <td>7809.0</td>\n",
       "      <td>7810.0</td>\n",
       "      <td>0.66</td>\n",
       "      <td>0.182468</td>\n",
       "      <td>1.083</td>\n",
       "      <td>20.605</td>\n",
       "    </tr>\n",
       "    <tr>\n",
       "      <th>2906</th>\n",
       "      <td>2</td>\n",
       "      <td>5125.0</td>\n",
       "      <td>5126.0</td>\n",
       "      <td>0.39</td>\n",
       "      <td>0.278935</td>\n",
       "      <td>4.152</td>\n",
       "      <td>4.905</td>\n",
       "    </tr>\n",
       "    <tr>\n",
       "      <th>1253</th>\n",
       "      <td>2</td>\n",
       "      <td>1634.0</td>\n",
       "      <td>2368.0</td>\n",
       "      <td>2.97</td>\n",
       "      <td>0.349916</td>\n",
       "      <td>4.146</td>\n",
       "      <td>103.099</td>\n",
       "    </tr>\n",
       "    <tr>\n",
       "      <th>2866</th>\n",
       "      <td>2</td>\n",
       "      <td>5038.0</td>\n",
       "      <td>5039.0</td>\n",
       "      <td>0.48</td>\n",
       "      <td>0.367862</td>\n",
       "      <td>4.788</td>\n",
       "      <td>0.442</td>\n",
       "    </tr>\n",
       "    <tr>\n",
       "      <th>3992</th>\n",
       "      <td>2</td>\n",
       "      <td>8257.0</td>\n",
       "      <td>8452.0</td>\n",
       "      <td>8.53</td>\n",
       "      <td>0.542431</td>\n",
       "      <td>5.936</td>\n",
       "      <td>105.773</td>\n",
       "    </tr>\n",
       "    <tr>\n",
       "      <th>3753</th>\n",
       "      <td>2</td>\n",
       "      <td>7437.0</td>\n",
       "      <td>7514.0</td>\n",
       "      <td>6.47</td>\n",
       "      <td>0.626846</td>\n",
       "      <td>9.409</td>\n",
       "      <td>171.261</td>\n",
       "    </tr>\n",
       "    <tr>\n",
       "      <th>336</th>\n",
       "      <td>2</td>\n",
       "      <td>23.0</td>\n",
       "      <td>135.0</td>\n",
       "      <td>1.33</td>\n",
       "      <td>0.803072</td>\n",
       "      <td>3.067</td>\n",
       "      <td>0.654</td>\n",
       "    </tr>\n",
       "    <tr>\n",
       "      <th>2600</th>\n",
       "      <td>2</td>\n",
       "      <td>4491.0</td>\n",
       "      <td>4492.0</td>\n",
       "      <td>1.90</td>\n",
       "      <td>1.124260</td>\n",
       "      <td>1.035</td>\n",
       "      <td>0.831</td>\n",
       "    </tr>\n",
       "    <tr>\n",
       "      <th>3401</th>\n",
       "      <td>2</td>\n",
       "      <td>6461.0</td>\n",
       "      <td>6462.0</td>\n",
       "      <td>1.81</td>\n",
       "      <td>1.166093</td>\n",
       "      <td>4.687</td>\n",
       "      <td>0.420</td>\n",
       "    </tr>\n",
       "    <tr>\n",
       "      <th>3213</th>\n",
       "      <td>2</td>\n",
       "      <td>5921.0</td>\n",
       "      <td>5922.0</td>\n",
       "      <td>2.06</td>\n",
       "      <td>1.181938</td>\n",
       "      <td>7.360</td>\n",
       "      <td>0.406</td>\n",
       "    </tr>\n",
       "    <tr>\n",
       "      <th>1899</th>\n",
       "      <td>2</td>\n",
       "      <td>2964.0</td>\n",
       "      <td>7616.0</td>\n",
       "      <td>1.39</td>\n",
       "      <td>1.206008</td>\n",
       "      <td>2.037</td>\n",
       "      <td>30.249</td>\n",
       "    </tr>\n",
       "    <tr>\n",
       "      <th>471</th>\n",
       "      <td>2</td>\n",
       "      <td>223.0</td>\n",
       "      <td>1597.0</td>\n",
       "      <td>5.23</td>\n",
       "      <td>1.349351</td>\n",
       "      <td>0.101</td>\n",
       "      <td>1.630</td>\n",
       "    </tr>\n",
       "    <tr>\n",
       "      <th>1466</th>\n",
       "      <td>2</td>\n",
       "      <td>2035.0</td>\n",
       "      <td>2150.0</td>\n",
       "      <td>2.79</td>\n",
       "      <td>1.414204</td>\n",
       "      <td>8.361</td>\n",
       "      <td>85.295</td>\n",
       "    </tr>\n",
       "    <tr>\n",
       "      <th>2609</th>\n",
       "      <td>2</td>\n",
       "      <td>4513.0</td>\n",
       "      <td>4577.0</td>\n",
       "      <td>5.58</td>\n",
       "      <td>1.439043</td>\n",
       "      <td>7.502</td>\n",
       "      <td>113.730</td>\n",
       "    </tr>\n",
       "    <tr>\n",
       "      <th>3234</th>\n",
       "      <td>2</td>\n",
       "      <td>5987.0</td>\n",
       "      <td>6004.0</td>\n",
       "      <td>8.87</td>\n",
       "      <td>1.659162</td>\n",
       "      <td>7.054</td>\n",
       "      <td>138.157</td>\n",
       "    </tr>\n",
       "    <tr>\n",
       "      <th>3412</th>\n",
       "      <td>2</td>\n",
       "      <td>6496.0</td>\n",
       "      <td>7104.0</td>\n",
       "      <td>4.36</td>\n",
       "      <td>1.789397</td>\n",
       "      <td>0.664</td>\n",
       "      <td>1.259</td>\n",
       "    </tr>\n",
       "    <tr>\n",
       "      <th>3279</th>\n",
       "      <td>2</td>\n",
       "      <td>6099.0</td>\n",
       "      <td>8119.0</td>\n",
       "      <td>3.81</td>\n",
       "      <td>1.832027</td>\n",
       "      <td>9.044</td>\n",
       "      <td>153.178</td>\n",
       "    </tr>\n",
       "    <tr>\n",
       "      <th>1346</th>\n",
       "      <td>2</td>\n",
       "      <td>1807.0</td>\n",
       "      <td>2042.0</td>\n",
       "      <td>2.37</td>\n",
       "      <td>2.144116</td>\n",
       "      <td>7.157</td>\n",
       "      <td>140.614</td>\n",
       "    </tr>\n",
       "    <tr>\n",
       "      <th>2905</th>\n",
       "      <td>2</td>\n",
       "      <td>5124.0</td>\n",
       "      <td>5272.0</td>\n",
       "      <td>3.73</td>\n",
       "      <td>2.146907</td>\n",
       "      <td>7.068</td>\n",
       "      <td>98.102</td>\n",
       "    </tr>\n",
       "    <tr>\n",
       "      <th>997</th>\n",
       "      <td>2</td>\n",
       "      <td>1146.0</td>\n",
       "      <td>1153.0</td>\n",
       "      <td>3.05</td>\n",
       "      <td>2.286072</td>\n",
       "      <td>9.953</td>\n",
       "      <td>31.989</td>\n",
       "    </tr>\n",
       "    <tr>\n",
       "      <th>518</th>\n",
       "      <td>2</td>\n",
       "      <td>293.0</td>\n",
       "      <td>4411.0</td>\n",
       "      <td>23.04</td>\n",
       "      <td>4.090562</td>\n",
       "      <td>4.379</td>\n",
       "      <td>85.344</td>\n",
       "    </tr>\n",
       "    <tr>\n",
       "      <th>1160</th>\n",
       "      <td>2</td>\n",
       "      <td>1460.0</td>\n",
       "      <td>8077.0</td>\n",
       "      <td>16.98</td>\n",
       "      <td>4.757497</td>\n",
       "      <td>9.886</td>\n",
       "      <td>358.473</td>\n",
       "    </tr>\n",
       "    <tr>\n",
       "      <th>3044</th>\n",
       "      <td>2</td>\n",
       "      <td>5459.0</td>\n",
       "      <td>5460.0</td>\n",
       "      <td>29.18</td>\n",
       "      <td>5.549454</td>\n",
       "      <td>8.320</td>\n",
       "      <td>2.106</td>\n",
       "    </tr>\n",
       "    <tr>\n",
       "      <th>1285</th>\n",
       "      <td>2</td>\n",
       "      <td>1694.0</td>\n",
       "      <td>1695.0</td>\n",
       "      <td>16.90</td>\n",
       "      <td>7.112591</td>\n",
       "      <td>5.659</td>\n",
       "      <td>0.173</td>\n",
       "    </tr>\n",
       "    <tr>\n",
       "      <th>634</th>\n",
       "      <td>2</td>\n",
       "      <td>466.0</td>\n",
       "      <td>621.0</td>\n",
       "      <td>14.26</td>\n",
       "      <td>7.499656</td>\n",
       "      <td>8.656</td>\n",
       "      <td>140.353</td>\n",
       "    </tr>\n",
       "    <tr>\n",
       "      <th>3569</th>\n",
       "      <td>2</td>\n",
       "      <td>6879.0</td>\n",
       "      <td>6905.0</td>\n",
       "      <td>42.75</td>\n",
       "      <td>11.633181</td>\n",
       "      <td>5.313</td>\n",
       "      <td>36.003</td>\n",
       "    </tr>\n",
       "    <tr>\n",
       "      <th>3533</th>\n",
       "      <td>2</td>\n",
       "      <td>6785.0</td>\n",
       "      <td>7252.0</td>\n",
       "      <td>43.35</td>\n",
       "      <td>12.263881</td>\n",
       "      <td>7.667</td>\n",
       "      <td>94.530</td>\n",
       "    </tr>\n",
       "    <tr>\n",
       "      <th>2839</th>\n",
       "      <td>2</td>\n",
       "      <td>4999.0</td>\n",
       "      <td>5093.0</td>\n",
       "      <td>13.09</td>\n",
       "      <td>12.507575</td>\n",
       "      <td>6.086</td>\n",
       "      <td>143.946</td>\n",
       "    </tr>\n",
       "    <tr>\n",
       "      <th>342</th>\n",
       "      <td>2</td>\n",
       "      <td>30.0</td>\n",
       "      <td>1284.0</td>\n",
       "      <td>21.36</td>\n",
       "      <td>13.743797</td>\n",
       "      <td>9.261</td>\n",
       "      <td>209.465</td>\n",
       "    </tr>\n",
       "    <tr>\n",
       "      <th>3801</th>\n",
       "      <td>2</td>\n",
       "      <td>7609.0</td>\n",
       "      <td>7948.0</td>\n",
       "      <td>24.21</td>\n",
       "      <td>15.555066</td>\n",
       "      <td>8.493</td>\n",
       "      <td>253.519</td>\n",
       "    </tr>\n",
       "    <tr>\n",
       "      <th>2575</th>\n",
       "      <td>2</td>\n",
       "      <td>4453.0</td>\n",
       "      <td>4505.0</td>\n",
       "      <td>118.81</td>\n",
       "      <td>20.881911</td>\n",
       "      <td>9.150</td>\n",
       "      <td>243.940</td>\n",
       "    </tr>\n",
       "    <tr>\n",
       "      <th>1659</th>\n",
       "      <td>2</td>\n",
       "      <td>2418.0</td>\n",
       "      <td>2517.0</td>\n",
       "      <td>42.08</td>\n",
       "      <td>22.510078</td>\n",
       "      <td>9.019</td>\n",
       "      <td>139.394</td>\n",
       "    </tr>\n",
       "    <tr>\n",
       "      <th>1104</th>\n",
       "      <td>2</td>\n",
       "      <td>1354.0</td>\n",
       "      <td>6826.0</td>\n",
       "      <td>48.22</td>\n",
       "      <td>33.806356</td>\n",
       "      <td>9.366</td>\n",
       "      <td>162.384</td>\n",
       "    </tr>\n",
       "  </tbody>\n",
       "</table>\n",
       "</div>"
      ],
      "text/plain": [
       "      group_id   star1   star2  abs_drv  abs_drv_edrv  separation   angsep\n",
       "1817         2  2784.0  2785.0     0.04      0.010363       3.473    0.666\n",
       "813          2   784.0   785.0     0.03      0.015643       1.371    0.482\n",
       "3862         2  7809.0  7810.0     0.66      0.182468       1.083   20.605\n",
       "2906         2  5125.0  5126.0     0.39      0.278935       4.152    4.905\n",
       "1253         2  1634.0  2368.0     2.97      0.349916       4.146  103.099\n",
       "2866         2  5038.0  5039.0     0.48      0.367862       4.788    0.442\n",
       "3992         2  8257.0  8452.0     8.53      0.542431       5.936  105.773\n",
       "3753         2  7437.0  7514.0     6.47      0.626846       9.409  171.261\n",
       "336          2    23.0   135.0     1.33      0.803072       3.067    0.654\n",
       "2600         2  4491.0  4492.0     1.90      1.124260       1.035    0.831\n",
       "3401         2  6461.0  6462.0     1.81      1.166093       4.687    0.420\n",
       "3213         2  5921.0  5922.0     2.06      1.181938       7.360    0.406\n",
       "1899         2  2964.0  7616.0     1.39      1.206008       2.037   30.249\n",
       "471          2   223.0  1597.0     5.23      1.349351       0.101    1.630\n",
       "1466         2  2035.0  2150.0     2.79      1.414204       8.361   85.295\n",
       "2609         2  4513.0  4577.0     5.58      1.439043       7.502  113.730\n",
       "3234         2  5987.0  6004.0     8.87      1.659162       7.054  138.157\n",
       "3412         2  6496.0  7104.0     4.36      1.789397       0.664    1.259\n",
       "3279         2  6099.0  8119.0     3.81      1.832027       9.044  153.178\n",
       "1346         2  1807.0  2042.0     2.37      2.144116       7.157  140.614\n",
       "2905         2  5124.0  5272.0     3.73      2.146907       7.068   98.102\n",
       "997          2  1146.0  1153.0     3.05      2.286072       9.953   31.989\n",
       "518          2   293.0  4411.0    23.04      4.090562       4.379   85.344\n",
       "1160         2  1460.0  8077.0    16.98      4.757497       9.886  358.473\n",
       "3044         2  5459.0  5460.0    29.18      5.549454       8.320    2.106\n",
       "1285         2  1694.0  1695.0    16.90      7.112591       5.659    0.173\n",
       "634          2   466.0   621.0    14.26      7.499656       8.656  140.353\n",
       "3569         2  6879.0  6905.0    42.75     11.633181       5.313   36.003\n",
       "3533         2  6785.0  7252.0    43.35     12.263881       7.667   94.530\n",
       "2839         2  4999.0  5093.0    13.09     12.507575       6.086  143.946\n",
       "342          2    30.0  1284.0    21.36     13.743797       9.261  209.465\n",
       "3801         2  7609.0  7948.0    24.21     15.555066       8.493  253.519\n",
       "2575         2  4453.0  4505.0   118.81     20.881911       9.150  243.940\n",
       "1659         2  2418.0  2517.0    42.08     22.510078       9.019  139.394\n",
       "1104         2  1354.0  6826.0    48.22     33.806356       9.366  162.384"
      ]
     },
     "execution_count": 18,
     "metadata": {},
     "output_type": "execute_result"
    }
   ],
   "source": [
    "pairdf.sort_values('abs_drv_edrv')"
   ]
  },
  {
   "cell_type": "code",
   "execution_count": 19,
   "metadata": {
    "collapsed": true
   },
   "outputs": [],
   "source": [
    "targets = pairdf.loc[pairdf.abs_drv_edrv<2].sort_values('abs_drv_edrv').copy()"
   ]
  },
  {
   "cell_type": "code",
   "execution_count": 20,
   "metadata": {
    "collapsed": false
   },
   "outputs": [
    {
     "name": "stdout",
     "output_type": "stream",
     "text": [
      "19 pairs\n"
     ]
    }
   ],
   "source": [
    "print(len(targets), \"pairs\")"
   ]
  },
  {
   "cell_type": "markdown",
   "metadata": {},
   "source": [
    "Try finding TIC ID with CTL match."
   ]
  },
  {
   "cell_type": "code",
   "execution_count": 21,
   "metadata": {
    "collapsed": false
   },
   "outputs": [],
   "source": [
    "target_stars = pd.DataFrame({\n",
    "        'row_id':targets[['star1', 'star2']].values.ravel(),\n",
    "        'group_id':np.repeat(targets.index,2)\n",
    "    })\n",
    "\n",
    "target_stars = pd.merge(target_stars, candi, left_on='row_id', right_on='row_id', how='left')"
   ]
  },
  {
   "cell_type": "code",
   "execution_count": 26,
   "metadata": {
    "collapsed": false
   },
   "outputs": [
    {
     "data": {
      "text/plain": [
       "Index(['group_id_x', 'row_id', 'tgas_source_id', 'name', 'ra', 'dec',\n",
       "       'parallax', 'distance', 'G', 'J',\n",
       "       ...\n",
       "       'd', 'e_d', 'ebv', 'e_ebv', 'numcont', 'contratio', 'disposition',\n",
       "       'duplicate_i', 'priority', 'subPriority'],\n",
       "      dtype='object', length=105)"
      ]
     },
     "execution_count": 26,
     "metadata": {},
     "output_type": "execute_result"
    }
   ],
   "source": [
    "target_stars.columns"
   ]
  },
  {
   "cell_type": "code",
   "execution_count": 46,
   "metadata": {
    "collapsed": false,
    "scrolled": false
   },
   "outputs": [],
   "source": [
    "target_stars[['row_id','group_id_x', 'MatchID','ra','dec','pmRA', 'pmDEC', 'Tmag']].to_csv(\"target_star_MatchID.csv\", index=False)"
   ]
  },
  {
   "cell_type": "code",
   "execution_count": 31,
   "metadata": {
    "collapsed": false
   },
   "outputs": [
    {
     "data": {
      "text/html": [
       "<div>\n",
       "<style>\n",
       "    .dataframe thead tr:only-child th {\n",
       "        text-align: right;\n",
       "    }\n",
       "\n",
       "    .dataframe thead th {\n",
       "        text-align: left;\n",
       "    }\n",
       "\n",
       "    .dataframe tbody tr th {\n",
       "        vertical-align: top;\n",
       "    }\n",
       "</style>\n",
       "<table border=\"1\" class=\"dataframe\">\n",
       "  <thead>\n",
       "    <tr style=\"text-align: right;\">\n",
       "      <th></th>\n",
       "      <th>rave_obs_id</th>\n",
       "    </tr>\n",
       "  </thead>\n",
       "  <tbody>\n",
       "    <tr>\n",
       "      <th>2784.0</th>\n",
       "      <td>20031003_2024m65_134</td>\n",
       "    </tr>\n",
       "    <tr>\n",
       "      <th>2785.0</th>\n",
       "      <td>20060731_2056m66_035</td>\n",
       "    </tr>\n",
       "    <tr>\n",
       "      <th>784.0</th>\n",
       "      <td>20060819_2237m64_070</td>\n",
       "    </tr>\n",
       "    <tr>\n",
       "      <th>785.0</th>\n",
       "      <td>20110707_2237m64a_066</td>\n",
       "    </tr>\n",
       "    <tr>\n",
       "      <th>7809.0</th>\n",
       "      <td>20080725_2105m46_128</td>\n",
       "    </tr>\n",
       "    <tr>\n",
       "      <th>7810.0</th>\n",
       "      <td>20070911_2105m46_127</td>\n",
       "    </tr>\n",
       "    <tr>\n",
       "      <th>5125.0</th>\n",
       "      <td>20060816_0127m27_125</td>\n",
       "    </tr>\n",
       "    <tr>\n",
       "      <th>5126.0</th>\n",
       "      <td>20080902_0127m27_125</td>\n",
       "    </tr>\n",
       "    <tr>\n",
       "      <th>1634.0</th>\n",
       "      <td>20030617_1543m18_139</td>\n",
       "    </tr>\n",
       "    <tr>\n",
       "      <th>2368.0</th>\n",
       "      <td>20030618_1543m18_120</td>\n",
       "    </tr>\n",
       "    <tr>\n",
       "      <th>5038.0</th>\n",
       "      <td>20051113_2342m23_132</td>\n",
       "    </tr>\n",
       "    <tr>\n",
       "      <th>5039.0</th>\n",
       "      <td>20061109_2355m23_014</td>\n",
       "    </tr>\n",
       "    <tr>\n",
       "      <th>8257.0</th>\n",
       "      <td>20100604_1905m74_143</td>\n",
       "    </tr>\n",
       "    <tr>\n",
       "      <th>8452.0</th>\n",
       "      <td>20090719_1905m74_128</td>\n",
       "    </tr>\n",
       "    <tr>\n",
       "      <th>7437.0</th>\n",
       "      <td>20060406_1610m02_123</td>\n",
       "    </tr>\n",
       "    <tr>\n",
       "      <th>7514.0</th>\n",
       "      <td>20060406_1610m02_066</td>\n",
       "    </tr>\n",
       "    <tr>\n",
       "      <th>23.0</th>\n",
       "      <td>20091205_0421m81_115</td>\n",
       "    </tr>\n",
       "    <tr>\n",
       "      <th>135.0</th>\n",
       "      <td>20091203_0421m81_112</td>\n",
       "    </tr>\n",
       "    <tr>\n",
       "      <th>4491.0</th>\n",
       "      <td>20080626_2220m35_054</td>\n",
       "    </tr>\n",
       "    <tr>\n",
       "      <th>4492.0</th>\n",
       "      <td>20080927_2220m35_053</td>\n",
       "    </tr>\n",
       "    <tr>\n",
       "      <th>6461.0</th>\n",
       "      <td>20100509_2002m55_061</td>\n",
       "    </tr>\n",
       "    <tr>\n",
       "      <th>6462.0</th>\n",
       "      <td>20100505_2004m53_024</td>\n",
       "    </tr>\n",
       "    <tr>\n",
       "      <th>5921.0</th>\n",
       "      <td>20060729_2116m56_019</td>\n",
       "    </tr>\n",
       "    <tr>\n",
       "      <th>5922.0</th>\n",
       "      <td>20080828_2116m56_038</td>\n",
       "    </tr>\n",
       "    <tr>\n",
       "      <th>2964.0</th>\n",
       "      <td>20070901_2109m51_042</td>\n",
       "    </tr>\n",
       "    <tr>\n",
       "      <th>7616.0</th>\n",
       "      <td>20070901_2109m51_015</td>\n",
       "    </tr>\n",
       "    <tr>\n",
       "      <th>223.0</th>\n",
       "      <td>20060614_2148m65_130</td>\n",
       "    </tr>\n",
       "    <tr>\n",
       "      <th>1597.0</th>\n",
       "      <td>20081019_2148m65_135</td>\n",
       "    </tr>\n",
       "    <tr>\n",
       "      <th>2035.0</th>\n",
       "      <td>20071120_0246m66_060</td>\n",
       "    </tr>\n",
       "    <tr>\n",
       "      <th>2150.0</th>\n",
       "      <td>20120918_0220m62_099</td>\n",
       "    </tr>\n",
       "    <tr>\n",
       "      <th>4513.0</th>\n",
       "      <td>20091113_0405m49_079</td>\n",
       "    </tr>\n",
       "    <tr>\n",
       "      <th>4577.0</th>\n",
       "      <td>20040924_0342m46_111</td>\n",
       "    </tr>\n",
       "    <tr>\n",
       "      <th>5987.0</th>\n",
       "      <td>20060818_0024m21_108</td>\n",
       "    </tr>\n",
       "    <tr>\n",
       "      <th>6004.0</th>\n",
       "      <td>20060820_0042m19_131</td>\n",
       "    </tr>\n",
       "    <tr>\n",
       "      <th>6496.0</th>\n",
       "      <td>20080629_2109m51_143</td>\n",
       "    </tr>\n",
       "    <tr>\n",
       "      <th>7104.0</th>\n",
       "      <td>20071017_2109m51_141</td>\n",
       "    </tr>\n",
       "    <tr>\n",
       "      <th>6099.0</th>\n",
       "      <td>20041003_0348m29_053</td>\n",
       "    </tr>\n",
       "    <tr>\n",
       "      <th>8119.0</th>\n",
       "      <td>20060918_0346m30_099</td>\n",
       "    </tr>\n",
       "  </tbody>\n",
       "</table>\n",
       "</div>"
      ],
      "text/plain": [
       "                  rave_obs_id\n",
       "2784.0   20031003_2024m65_134\n",
       "2785.0   20060731_2056m66_035\n",
       "784.0    20060819_2237m64_070\n",
       "785.0   20110707_2237m64a_066\n",
       "7809.0   20080725_2105m46_128\n",
       "7810.0   20070911_2105m46_127\n",
       "5125.0   20060816_0127m27_125\n",
       "5126.0   20080902_0127m27_125\n",
       "1634.0   20030617_1543m18_139\n",
       "2368.0   20030618_1543m18_120\n",
       "5038.0   20051113_2342m23_132\n",
       "5039.0   20061109_2355m23_014\n",
       "8257.0   20100604_1905m74_143\n",
       "8452.0   20090719_1905m74_128\n",
       "7437.0   20060406_1610m02_123\n",
       "7514.0   20060406_1610m02_066\n",
       "23.0     20091205_0421m81_115\n",
       "135.0    20091203_0421m81_112\n",
       "4491.0   20080626_2220m35_054\n",
       "4492.0   20080927_2220m35_053\n",
       "6461.0   20100509_2002m55_061\n",
       "6462.0   20100505_2004m53_024\n",
       "5921.0   20060729_2116m56_019\n",
       "5922.0   20080828_2116m56_038\n",
       "2964.0   20070901_2109m51_042\n",
       "7616.0   20070901_2109m51_015\n",
       "223.0    20060614_2148m65_130\n",
       "1597.0   20081019_2148m65_135\n",
       "2035.0   20071120_0246m66_060\n",
       "2150.0   20120918_0220m62_099\n",
       "4513.0   20091113_0405m49_079\n",
       "4577.0   20040924_0342m46_111\n",
       "5987.0   20060818_0024m21_108\n",
       "6004.0   20060820_0042m19_131\n",
       "6496.0   20080629_2109m51_143\n",
       "7104.0   20071017_2109m51_141\n",
       "6099.0   20041003_0348m29_053\n",
       "8119.0   20060918_0346m30_099"
      ]
     },
     "execution_count": 31,
     "metadata": {},
     "output_type": "execute_result"
    }
   ],
   "source": [
    "star.loc[target_stars.row_id, ['rave_obs_id']]"
   ]
  },
  {
   "cell_type": "code",
   "execution_count": 32,
   "metadata": {
    "collapsed": true
   },
   "outputs": [],
   "source": [
    "raveon = Table.read(\"/Users/semyeong/data/RAVE-on-v1.0.fits\")"
   ]
  },
  {
   "cell_type": "code",
   "execution_count": 33,
   "metadata": {
    "collapsed": false
   },
   "outputs": [
    {
     "data": {
      "text/html": [
       "&lt;Table length=3&gt;\n",
       "<table id=\"table4608188032\" class=\"table-striped table-bordered table-condensed\">\n",
       "<thead><tr><th>RAVE_OBS_ID</th><th>RAVEID</th><th>RA</th><th>DEC</th><th>HRV</th><th>eHRV</th><th>StdDev_HRV</th><th>MAD_HRV</th><th>CorrelationCoeff</th><th>PeakHeight</th><th>PeakWidth</th><th>CorrectionRV</th><th>SkyRV</th><th>eSkyRV</th><th>SkyCorrelationCoeff</th><th>Vrot_SPARV</th><th>ZeroPointFLAG</th><th>c1</th><th>c2</th><th>c3</th><th>c4</th><th>c5</th><th>c6</th><th>c7</th><th>c8</th><th>c9</th><th>c10</th><th>c11</th><th>c12</th><th>c13</th><th>c14</th><th>c15</th><th>c16</th><th>c17</th><th>c18</th><th>c19</th><th>c20</th><th>TEFF</th><th>LOGG</th><th>FE_H</th><th>O_H</th><th>MG_H</th><th>AL_H</th><th>SI_H</th><th>CA_H</th><th>NI_H</th><th>E_TEFF</th><th>E_LOGG</th><th>E_FE_H</th><th>E_O_H</th><th>E_MG_H</th><th>E_AL_H</th><th>E_SI_H</th><th>E_CA_H</th><th>E_NI_H</th><th>SNR</th><th>R_CHI_SQ</th><th>QC</th></tr></thead>\n",
       "<thead><tr><th>str31</th><th>str16</th><th>float64</th><th>float64</th><th>float64</th><th>float64</th><th>float64</th><th>float64</th><th>float64</th><th>float64</th><th>float64</th><th>float64</th><th>float64</th><th>float64</th><th>float64</th><th>float64</th><th>str4</th><th>str1</th><th>str1</th><th>str1</th><th>str1</th><th>str1</th><th>str1</th><th>str1</th><th>str1</th><th>str1</th><th>str1</th><th>str1</th><th>str1</th><th>str1</th><th>str1</th><th>str1</th><th>str1</th><th>str1</th><th>str1</th><th>str1</th><th>str1</th><th>float64</th><th>float64</th><th>float64</th><th>float64</th><th>float64</th><th>float64</th><th>float64</th><th>float64</th><th>float64</th><th>float64</th><th>float64</th><th>float64</th><th>float64</th><th>float64</th><th>float64</th><th>float64</th><th>float64</th><th>float64</th><th>float64</th><th>float64</th><th>bool</th></tr></thead>\n",
       "<tr><td>20030412_0932m08_001</td><td>J093025.1-103336</td><td>142.604708333</td><td>-10.5600555556</td><td>30.596</td><td>3.905</td><td>0.895722923429</td><td>0.6746</td><td>16.66</td><td>0.824</td><td>69.6</td><td>2.276</td><td>4.62</td><td>2.683</td><td>9.06</td><td>nan</td><td>AAC</td><td>n</td><td>n</td><td>e</td><td>e</td><td>n</td><td>e</td><td>e</td><td>n</td><td>e</td><td>n</td><td>n</td><td>n</td><td>n</td><td>e</td><td>e</td><td>n</td><td>n</td><td>n</td><td>n</td><td>e</td><td>nan</td><td>nan</td><td>nan</td><td>nan</td><td>nan</td><td>nan</td><td>nan</td><td>nan</td><td>nan</td><td>nan</td><td>nan</td><td>nan</td><td>nan</td><td>nan</td><td>nan</td><td>nan</td><td>nan</td><td>nan</td><td>31.4046148209</td><td>2.78063770837</td><td>True</td></tr>\n",
       "<tr><td>20030412_0932m08_003</td><td>J093210.0-103944</td><td>143.041791667</td><td>-10.6623055556</td><td>-5.789</td><td>4.579</td><td>1.64591607724</td><td>1.32604</td><td>12.73</td><td>0.751</td><td>67.182</td><td>2.321</td><td>1.14</td><td>1.876</td><td>12.85</td><td>nan</td><td>AAC</td><td>n</td><td>n</td><td>n</td><td>n</td><td>n</td><td>n</td><td>n</td><td>n</td><td>b</td><td>n</td><td>n</td><td>n</td><td>n</td><td>n</td><td>n</td><td>n</td><td>n</td><td>n</td><td>n</td><td>n</td><td>6844.03199568</td><td>4.08880414523</td><td>-0.0666253987334</td><td>nan</td><td>nan</td><td>nan</td><td>nan</td><td>nan</td><td>nan</td><td>92.6281881872</td><td>0.135620571209</td><td>0.0651060313422</td><td>nan</td><td>nan</td><td>nan</td><td>nan</td><td>nan</td><td>nan</td><td>30.2926594315</td><td>2.61218140943</td><td>False</td></tr>\n",
       "<tr><td>20030412_0932m08_004</td><td>J093006.6-111703</td><td>142.5275</td><td>-11.2840555556</td><td>19.54</td><td>5.747</td><td>1.3083275329</td><td>0.9844</td><td>10.33</td><td>0.772</td><td>69.857</td><td>2.342</td><td>1.689</td><td>2.243</td><td>11.14</td><td>nan</td><td>AAC</td><td>n</td><td>n</td><td>n</td><td>n</td><td>n</td><td>n</td><td>n</td><td>n</td><td>n</td><td>n</td><td>n</td><td>n</td><td>n</td><td>n</td><td>n</td><td>n</td><td>n</td><td>n</td><td>n</td><td>n</td><td>nan</td><td>nan</td><td>nan</td><td>nan</td><td>nan</td><td>nan</td><td>nan</td><td>nan</td><td>nan</td><td>nan</td><td>nan</td><td>nan</td><td>nan</td><td>nan</td><td>nan</td><td>nan</td><td>nan</td><td>nan</td><td>34.8868799185</td><td>3.38829374137</td><td>False</td></tr>\n",
       "</table>"
      ],
      "text/plain": [
       "<Table length=3>\n",
       "    RAVE_OBS_ID           RAVEID            RA      ...    R_CHI_SQ     QC \n",
       "       str31              str16          float64    ...    float64     bool\n",
       "-------------------- ---------------- ------------- ... ------------- -----\n",
       "20030412_0932m08_001 J093025.1-103336 142.604708333 ... 2.78063770837  True\n",
       "20030412_0932m08_003 J093210.0-103944 143.041791667 ... 2.61218140943 False\n",
       "20030412_0932m08_004 J093006.6-111703      142.5275 ... 3.38829374137 False"
      ]
     },
     "execution_count": 33,
     "metadata": {},
     "output_type": "execute_result"
    }
   ],
   "source": [
    "raveon[:3]"
   ]
  },
  {
   "cell_type": "code",
   "execution_count": 41,
   "metadata": {
    "collapsed": false
   },
   "outputs": [],
   "source": [
    "# find index into RAVEON\n",
    "ridx = []\n",
    "for rid in star.loc[target_stars.row_id, ['rave_obs_id']].values:\n",
    "    ridx.append(np.where(raveon['RAVE_OBS_ID'] == rid)[0][0])"
   ]
  },
  {
   "cell_type": "code",
   "execution_count": 44,
   "metadata": {
    "collapsed": false
   },
   "outputs": [],
   "source": [
    "raveon[ridx].write(\"target_star_raveon.csv\")"
   ]
  },
  {
   "cell_type": "code",
   "execution_count": 62,
   "metadata": {
    "collapsed": false
   },
   "outputs": [],
   "source": [
    "raveon[ridx]['RAVE_OBS_ID','TEFF','LOGG','FE_H','E_TEFF','E_LOGG','E_FE_H'].write('target_star_raveon_teff_logg_feh.csv')"
   ]
  },
  {
   "cell_type": "code",
   "execution_count": 60,
   "metadata": {
    "collapsed": false
   },
   "outputs": [
    {
     "data": {
      "image/png": "[encoded data removed]",
      "text/plain": [
       "<matplotlib.figure.Figure at 0x113080860>"
      ]
     },
     "metadata": {},
     "output_type": "display_data"
    }
   ],
   "source": [
    "plt.figure(dpi=120)\n",
    "plt.errorbar(raveon[ridx]['FE_H'].data[::2], raveon[ridx]['FE_H'].data[1::2], fmt='.',\n",
    "             xerr=raveon[ridx]['FE_H'].data[::2], yerr=raveon[ridx]['FE_H'].data[1::2]);\n",
    "plt.xlabel(\"[Fe/H]$_1$\")\n",
    "plt.ylabel(\"[Fe/H]$_2$\")\n",
    "x=np.linspace(-0.4,0.2,50)\n",
    "plt.plot(x,x,'k-');"
   ]
  },
  {
   "cell_type": "code",
   "execution_count": 48,
   "metadata": {
    "collapsed": false
   },
   "outputs": [
    {
     "name": "stdout",
     "output_type": "stream",
     "text": [
      "      39 target_star_MatchID.csv\r\n",
      "      39 target_star_raveon.csv\r\n",
      "      78 total\r\n"
     ]
    }
   ],
   "source": [
    "!wc -l target_star*.csv"
   ]
  },
  {
   "cell_type": "code",
   "execution_count": 49,
   "metadata": {
    "collapsed": false
   },
   "outputs": [
    {
     "name": "stdout",
     "output_type": "stream",
     "text": [
      "==> target_star_MatchID.csv <==\r\n",
      "row_id,group_id_x,MatchID,ra,dec,pmRA,pmDEC,Tmag\r\n",
      "2784.0,1817,372040411.0,309.780795,-66.452055,7.41988,-37.499,9.884\r\n",
      "2785.0,1817,372040412.0,309.753919,-66.454874,7.33692,-38.2239,10.725\r\n",
      "784.0,813,412052353.0,337.435162,-62.73761700000001,45.3432,-23.5715,10.716\r\n",
      "785.0,813,412052352.0,337.452241,-62.739431999999994,45.2808,-23.6084,9.968\r\n",
      "7809.0,3862,79303009.0,319.109547,-47.935676,114.991,-53.8314,9.757\r\n",
      "7810.0,3862,126947802.0,318.70345299999997,-47.726832,115.04700000000001,-54.5788,10.206\r\n",
      "5125.0,2906,55855777.0,23.0567,-27.561246,-36.2151,-80.0002,10.186\r\n",
      "5126.0,2906,55856742.0,23.148796,-27.557221999999996,-34.4797,-80.1115,9.943\r\n",
      "1634.0,1253,71114935.0,237.181388,-20.20774,-58.101000000000006,-10.2573,10.009\r\n",
      "\r\n",
      "==> target_star_raveon.csv <==\r\n",
      "RAVE_OBS_ID,RAVEID,RA,DEC,HRV,eHRV,StdDev_HRV,MAD_HRV,CorrelationCoeff,PeakHeight,PeakWidth,CorrectionRV,SkyRV,eSkyRV,SkyCorrelationCoeff,Vrot_SPARV,ZeroPointFLAG,c1,c2,c3,c4,c5,c6,c7,c8,c9,c10,c11,c12,c13,c14,c15,c16,c17,c18,c19,c20,TEFF,LOGG,FE_H,O_H,MG_H,AL_H,SI_H,CA_H,NI_H,E_TEFF,E_LOGG,E_FE_H,E_O_H,E_MG_H,E_AL_H,E_SI_H,E_CA_H,E_NI_H,SNR,R_CHI_SQ,QC\r\n",
      "20031003_2024m65_134,J203907.4-662707,309.780666666667,-66.4519166666667,6.379,3.619,0.407139042588647,0.29104,14.75,0.802,62.555,3.991,5.29,6.734,2.65,nan,ABC,n,n,n,n,n,b,n,n,n,n,n,n,n,n,n,n,n,n,n,n,nan,nan,nan,nan,nan,nan,nan,nan,nan,nan,nan,nan,nan,nan,nan,nan,nan,nan,70.88197997912422,8.611109260529645,False\r\n",
      "20060731_2056m66_035,J203900.9-662717,309.753791666667,-66.4546944444444,6.422,1.335,1.31719525254737,0.9542,54.14,0.928,76.945,-0.846,-1.086,4.784,4.46,39.0,BAC*,n,n,n,n,n,n,n,n,n,n,n,n,n,n,n,n,n,n,n,n,6013.325468217557,3.8844897110039183,0.011735409482600337,nan,nan,nan,nan,nan,nan,129.00241724986162,0.1676715950231419,0.06902720692569667,nan,nan,nan,nan,nan,nan,30.487037675747924,0.5609627947923699,True\r\n",
      "20060819_2237m64_070,J222944.4-624415,337.434791666667,-62.7375277777778,19.028,1.305,0.74257380852755,0.546148148148146,45.84,0.934,61.715,-0.804,1.454,10.636,1.11,25.0,CCS,n,n,n,e,n,n,n,n,n,n,n,n,n,e,n,n,n,n,n,n,5302.561983120913,3.7667209553581764,0.07073820976883474,nan,nan,nan,nan,nan,nan,96.86949681943136,0.14230466061452143,0.06778924512374784,nan,nan,nan,nan,nan,nan,37.70474306109135,0.8455927042223602,True\r\n",
      "20110707_2237m64a_066,J222948.4-624422,337.451833333333,-62.7393333333333,19.004,1.413,nan,nan,48.34,0.952,70.656,0.0,-0.573,5.769,3.66,32.0,EAC,n,n,n,n,n,n,n,n,n,n,n,n,n,n,n,n,n,n,n,n,6236.135794203288,4.470075086885352,0.11543489053067447,nan,nan,nan,nan,nan,nan,92.23038265682169,0.13180771778556474,0.06440742809019233,nan,nan,nan,nan,nan,nan,39.58060054628614,0.8285033772560314,True\r\n",
      "20080725_2105m46_128,J211626.1-475608,319.108875,-47.9354444444444,4.301,2.237,1.58655406113025,1.22818,29.42,0.897,75.608,-1.46,-6.028,8.58,1.9,52.0,ECS*,e,e,n,e,n,e,n,n,n,e,n,n,e,e,n,n,e,e,e,e,4323.350862514868,4.7206310533831575,-0.06425521769426808,nan,nan,nan,nan,nan,nan,95.3856411039824,0.13286316231621167,0.08728013113860236,nan,nan,nan,nan,nan,nan,24.789406253864065,0.9104517648034454,True\r\n",
      "20070911_2105m46_127,J211448.7-474336,318.70275,-47.7266388888889,3.641,2.842,0.702108293324866,0.5069,22.49,0.925,71.926,-0.397,1.193,5.749,3.01,46.0,CCS,e,e,n,n,n,n,n,n,n,n,e,n,n,n,n,e,e,e,n,e,4206.454273870563,4.934589283718936,-0.0763993948860775,nan,nan,nan,nan,nan,nan,83.55684679112069,0.12431831845130362,0.07366552623357903,nan,nan,nan,nan,nan,nan,34.59161147875763,1.090282154799996,True\r\n",
      "20060816_0127m27_125,J013213.7-273339,23.0569166666667,-27.5608888888889,17.343,1.069,0.499847810171589,0.3665,60.91,0.969,68.966,0.638,0.144,6.769,2.58,30.0,CCS,n,n,n,n,n,n,n,n,n,n,n,n,n,n,n,n,n,n,n,n,5861.9184856775155,4.196161723679301,-0.184255432150474,nan,nan,nan,nan,nan,nan,96.20244559195324,0.1476410494684832,0.06791499000606048,nan,nan,nan,nan,nan,nan,43.49040481082135,0.35171525170399615,True\r\n",
      "20080902_0127m27_125,J013235.7-273325,23.1489166666667,-27.5568888888889,16.955,0.897,0.792536119050735,0.522666666666667,75.08,0.969,71.492,-3.461,-1.903,9.025,1.24,32.0,EAC*,n,n,n,n,n,n,n,n,n,n,n,n,n,n,n,n,n,n,n,n,5825.598598358825,4.195251411734149,-0.10406215913814636,nan,nan,nan,nan,nan,nan,95.9230883246193,0.1469391701180279,0.06768972640586676,nan,nan,nan,nan,nan,nan,43.55654497266739,0.32303616949034814,True\r\n",
      "20030617_1543m18_139,J154843.6-201228,237.181625,-20.2077222222222,-26.487,4.033,0.684626175368719,0.416222222222222,13.92,0.812,64.226,-0.5,-6.138,8.228,2.1,nan,AAS,n,n,n,n,n,e,n,e,n,e,e,n,n,n,e,e,n,n,n,n,nan,nan,nan,nan,nan,nan,nan,nan,nan,nan,nan,nan,nan,nan,nan,nan,nan,nan,59.14294175778954,8.610527533949524,False\r\n"
     ]
    }
   ],
   "source": [
    "!head target_star*.csv"
   ]
  }
 ],
 "metadata": {
  "anaconda-cloud": {},
  "kernelspec": {
   "display_name": "Python [research]",
   "language": "python",
   "name": "Python [research]"
  },
  "language_info": {
   "codemirror_mode": {
    "name": "ipython",
    "version": 3
   },
   "file_extension": ".py",
   "mimetype": "text/x-python",
   "name": "python",
   "nbconvert_exporter": "python",
   "pygments_lexer": "ipython3",
   "version": "3.6.2"
  },
  "toc": {
   "colors": {
    "hover_highlight": "#DAA520",
    "running_highlight": "#FF0000",
    "selected_highlight": "#FFD700"
   },
   "moveMenuLeft": true,
   "nav_menu": {
    "height": "12px",
    "width": "252px"
   },
   "navigate_menu": true,
   "number_sections": true,
   "sideBar": true,
   "threshold": 4,
   "toc_cell": false,
   "toc_section_display": "block",
   "toc_window_display": false
  }
 },
 "nbformat": 4,
 "nbformat_minor": 0
}
